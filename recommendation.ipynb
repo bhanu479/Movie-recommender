{
 "cells": [
  {
   "cell_type": "code",
   "execution_count": 1,
   "metadata": {},
   "outputs": [],
   "source": [
    "import pandas as pd\n",
    "import numpy as np"
   ]
  },
  {
   "cell_type": "code",
   "execution_count": 44,
   "metadata": {},
   "outputs": [],
   "source": [
    "movies = pd.read_csv('tmdb.csv')"
   ]
  },
  {
   "cell_type": "code",
   "execution_count": 45,
   "metadata": {},
   "outputs": [
    {
     "data": {
      "text/html": [
       "<div>\n",
       "<style scoped>\n",
       "    .dataframe tbody tr th:only-of-type {\n",
       "        vertical-align: middle;\n",
       "    }\n",
       "\n",
       "    .dataframe tbody tr th {\n",
       "        vertical-align: top;\n",
       "    }\n",
       "\n",
       "    .dataframe thead th {\n",
       "        text-align: right;\n",
       "    }\n",
       "</style>\n",
       "<table border=\"1\" class=\"dataframe\">\n",
       "  <thead>\n",
       "    <tr style=\"text-align: right;\">\n",
       "      <th></th>\n",
       "      <th>cast</th>\n",
       "      <th>crew</th>\n",
       "      <th>id</th>\n",
       "    </tr>\n",
       "  </thead>\n",
       "  <tbody>\n",
       "    <tr>\n",
       "      <th>0</th>\n",
       "      <td>['/3uP0HPmCa0VTmyzTfa3E4WI9qgK.jpg', '/cwum24E...</td>\n",
       "      <td>[None]</td>\n",
       "      <td>19404.0</td>\n",
       "    </tr>\n",
       "    <tr>\n",
       "      <th>1</th>\n",
       "      <td>['/hsCu1JUzQQ4pl7uFxAVFLOs9yHh.jpg', '/oIciQWr...</td>\n",
       "      <td>['/nvOqAQhKtXdHtczgqanoCfltsxJ.jpg']</td>\n",
       "      <td>278.0</td>\n",
       "    </tr>\n",
       "    <tr>\n",
       "      <th>2</th>\n",
       "      <td>['/fuTEPMsBtV1zE98ujPONbKiYDc2.jpg', '/fMDFeVf...</td>\n",
       "      <td>['/mGKkVp3l9cipPt10AqoQnwaPrfI.jpg']</td>\n",
       "      <td>238.0</td>\n",
       "    </tr>\n",
       "    <tr>\n",
       "      <th>3</th>\n",
       "      <td>['/lbUQ7ilvBtWMU23reKsHg3jRmsf.jpg', '/ktPKniW...</td>\n",
       "      <td>['/usR5NspRlWgXKUe9qVsCtTCpe4l.jpg']</td>\n",
       "      <td>724089.0</td>\n",
       "    </tr>\n",
       "    <tr>\n",
       "      <th>4</th>\n",
       "      <td>['/bboldwqSC6tdw2iL6631c98l2Mn.jpg', '/vQtBqpF...</td>\n",
       "      <td>['/tZxcg19YQ3e8fJ0pOs7hjlnmmr6.jpg']</td>\n",
       "      <td>424.0</td>\n",
       "    </tr>\n",
       "  </tbody>\n",
       "</table>\n",
       "</div>"
      ],
      "text/plain": [
       "                                                cast  \\\n",
       "0  ['/3uP0HPmCa0VTmyzTfa3E4WI9qgK.jpg', '/cwum24E...   \n",
       "1  ['/hsCu1JUzQQ4pl7uFxAVFLOs9yHh.jpg', '/oIciQWr...   \n",
       "2  ['/fuTEPMsBtV1zE98ujPONbKiYDc2.jpg', '/fMDFeVf...   \n",
       "3  ['/lbUQ7ilvBtWMU23reKsHg3jRmsf.jpg', '/ktPKniW...   \n",
       "4  ['/bboldwqSC6tdw2iL6631c98l2Mn.jpg', '/vQtBqpF...   \n",
       "\n",
       "                                   crew        id  \n",
       "0                                [None]   19404.0  \n",
       "1  ['/nvOqAQhKtXdHtczgqanoCfltsxJ.jpg']     278.0  \n",
       "2  ['/mGKkVp3l9cipPt10AqoQnwaPrfI.jpg']     238.0  \n",
       "3  ['/usR5NspRlWgXKUe9qVsCtTCpe4l.jpg']  724089.0  \n",
       "4  ['/tZxcg19YQ3e8fJ0pOs7hjlnmmr6.jpg']     424.0  "
      ]
     },
     "execution_count": 45,
     "metadata": {},
     "output_type": "execute_result"
    }
   ],
   "source": [
    "movies.head()"
   ]
  },
  {
   "cell_type": "markdown",
   "metadata": {},
   "source": [
    "movies.isnull().sum()"
   ]
  },
  {
   "cell_type": "code",
   "execution_count": 5,
   "metadata": {},
   "outputs": [],
   "source": [
    "movies.dropna(inplace=True)"
   ]
  },
  {
   "cell_type": "code",
   "execution_count": 6,
   "metadata": {},
   "outputs": [],
   "source": [
    "data = movies[['id','title','overview','keywords','genres','cast','crew']]"
   ]
  },
  {
   "cell_type": "code",
   "execution_count": 7,
   "metadata": {},
   "outputs": [
    {
     "data": {
      "text/html": [
       "<div>\n",
       "<style scoped>\n",
       "    .dataframe tbody tr th:only-of-type {\n",
       "        vertical-align: middle;\n",
       "    }\n",
       "\n",
       "    .dataframe tbody tr th {\n",
       "        vertical-align: top;\n",
       "    }\n",
       "\n",
       "    .dataframe thead th {\n",
       "        text-align: right;\n",
       "    }\n",
       "</style>\n",
       "<table border=\"1\" class=\"dataframe\">\n",
       "  <thead>\n",
       "    <tr style=\"text-align: right;\">\n",
       "      <th></th>\n",
       "      <th>id</th>\n",
       "      <th>title</th>\n",
       "      <th>overview</th>\n",
       "      <th>keywords</th>\n",
       "      <th>genres</th>\n",
       "      <th>cast</th>\n",
       "      <th>crew</th>\n",
       "    </tr>\n",
       "  </thead>\n",
       "  <tbody>\n",
       "    <tr>\n",
       "      <th>0</th>\n",
       "      <td>19404</td>\n",
       "      <td>Dilwale Dulhania Le Jayenge</td>\n",
       "      <td>Raj is a rich, carefree, happy-go-lucky second...</td>\n",
       "      <td>[]</td>\n",
       "      <td>['Comedy', 'Drama', 'Romance']</td>\n",
       "      <td>['Shah Rukh Khan', 'Kajol', 'Amrish Puri', 'An...</td>\n",
       "      <td>['Aditya Chopra']</td>\n",
       "    </tr>\n",
       "    <tr>\n",
       "      <th>1</th>\n",
       "      <td>278</td>\n",
       "      <td>The Shawshank Redemption</td>\n",
       "      <td>Framed in the 1940s for the double murder of h...</td>\n",
       "      <td>['prison', 'corruption', 'police brutality', '...</td>\n",
       "      <td>['Drama', 'Crime']</td>\n",
       "      <td>['Tim Robbins', 'Morgan Freeman', 'Bob Gunton'...</td>\n",
       "      <td>['Frank Darabont']</td>\n",
       "    </tr>\n",
       "    <tr>\n",
       "      <th>2</th>\n",
       "      <td>238</td>\n",
       "      <td>The Godfather</td>\n",
       "      <td>Spanning the years 1945 to 1955, a chronicle o...</td>\n",
       "      <td>['italy', 'loss of loved one', 'love at first ...</td>\n",
       "      <td>['Drama', 'Crime']</td>\n",
       "      <td>['Marlon Brando', 'Al Pacino', 'James Caan', '...</td>\n",
       "      <td>['Francis Ford Coppola']</td>\n",
       "    </tr>\n",
       "    <tr>\n",
       "      <th>3</th>\n",
       "      <td>724089</td>\n",
       "      <td>Gabriel's Inferno Part II</td>\n",
       "      <td>Professor Gabriel Emerson finally learns the t...</td>\n",
       "      <td>['based on novel or book']</td>\n",
       "      <td>['Romance']</td>\n",
       "      <td>['Melanie Zanetti', 'Giulio Berruti', 'James A...</td>\n",
       "      <td>['Tosca Musk']</td>\n",
       "    </tr>\n",
       "    <tr>\n",
       "      <th>4</th>\n",
       "      <td>424</td>\n",
       "      <td>Schindler's List</td>\n",
       "      <td>The true story of how businessman Oskar Schind...</td>\n",
       "      <td>['based on novel or book', 'factory', 'concent...</td>\n",
       "      <td>['Drama', 'History', 'War']</td>\n",
       "      <td>['Liam Neeson', 'Ben Kingsley', 'Ralph Fiennes...</td>\n",
       "      <td>['Steven Spielberg']</td>\n",
       "    </tr>\n",
       "  </tbody>\n",
       "</table>\n",
       "</div>"
      ],
      "text/plain": [
       "       id                        title  \\\n",
       "0   19404  Dilwale Dulhania Le Jayenge   \n",
       "1     278     The Shawshank Redemption   \n",
       "2     238                The Godfather   \n",
       "3  724089    Gabriel's Inferno Part II   \n",
       "4     424             Schindler's List   \n",
       "\n",
       "                                            overview  \\\n",
       "0  Raj is a rich, carefree, happy-go-lucky second...   \n",
       "1  Framed in the 1940s for the double murder of h...   \n",
       "2  Spanning the years 1945 to 1955, a chronicle o...   \n",
       "3  Professor Gabriel Emerson finally learns the t...   \n",
       "4  The true story of how businessman Oskar Schind...   \n",
       "\n",
       "                                            keywords  \\\n",
       "0                                                 []   \n",
       "1  ['prison', 'corruption', 'police brutality', '...   \n",
       "2  ['italy', 'loss of loved one', 'love at first ...   \n",
       "3                         ['based on novel or book']   \n",
       "4  ['based on novel or book', 'factory', 'concent...   \n",
       "\n",
       "                           genres  \\\n",
       "0  ['Comedy', 'Drama', 'Romance']   \n",
       "1              ['Drama', 'Crime']   \n",
       "2              ['Drama', 'Crime']   \n",
       "3                     ['Romance']   \n",
       "4     ['Drama', 'History', 'War']   \n",
       "\n",
       "                                                cast                      crew  \n",
       "0  ['Shah Rukh Khan', 'Kajol', 'Amrish Puri', 'An...         ['Aditya Chopra']  \n",
       "1  ['Tim Robbins', 'Morgan Freeman', 'Bob Gunton'...        ['Frank Darabont']  \n",
       "2  ['Marlon Brando', 'Al Pacino', 'James Caan', '...  ['Francis Ford Coppola']  \n",
       "3  ['Melanie Zanetti', 'Giulio Berruti', 'James A...            ['Tosca Musk']  \n",
       "4  ['Liam Neeson', 'Ben Kingsley', 'Ralph Fiennes...      ['Steven Spielberg']  "
      ]
     },
     "execution_count": 7,
     "metadata": {},
     "output_type": "execute_result"
    }
   ],
   "source": [
    "data.head()"
   ]
  },
  {
   "cell_type": "code",
   "execution_count": 8,
   "metadata": {},
   "outputs": [
    {
     "name": "stderr",
     "output_type": "stream",
     "text": [
      "C:\\Users\\shekh\\Anaconda3\\lib\\site-packages\\pandas\\core\\generic.py:5303: SettingWithCopyWarning: \n",
      "A value is trying to be set on a copy of a slice from a DataFrame.\n",
      "Try using .loc[row_indexer,col_indexer] = value instead\n",
      "\n",
      "See the caveats in the documentation: https://pandas.pydata.org/pandas-docs/stable/user_guide/indexing.html#returning-a-view-versus-a-copy\n",
      "  self[name] = value\n"
     ]
    }
   ],
   "source": [
    "data.overview = data.overview.apply(lambda x:x.split())\n",
    "data.genres=data['genres'].apply(lambda x:[i.replace(' ','') for i in x])\n",
    "data.keywords=data['keywords'].apply(lambda x:[i.replace(' ','') for i in x])\n",
    "data.cast=data['cast'].apply(lambda x:[i.replace(' ','') for i in x])\n",
    "data.crew=data['crew'].apply(lambda x:[i.replace(' ','') for i in x])"
   ]
  },
  {
   "cell_type": "code",
   "execution_count": 9,
   "metadata": {},
   "outputs": [
    {
     "data": {
      "text/html": [
       "<div>\n",
       "<style scoped>\n",
       "    .dataframe tbody tr th:only-of-type {\n",
       "        vertical-align: middle;\n",
       "    }\n",
       "\n",
       "    .dataframe tbody tr th {\n",
       "        vertical-align: top;\n",
       "    }\n",
       "\n",
       "    .dataframe thead th {\n",
       "        text-align: right;\n",
       "    }\n",
       "</style>\n",
       "<table border=\"1\" class=\"dataframe\">\n",
       "  <thead>\n",
       "    <tr style=\"text-align: right;\">\n",
       "      <th></th>\n",
       "      <th>id</th>\n",
       "      <th>title</th>\n",
       "      <th>overview</th>\n",
       "      <th>keywords</th>\n",
       "      <th>genres</th>\n",
       "      <th>cast</th>\n",
       "      <th>crew</th>\n",
       "    </tr>\n",
       "  </thead>\n",
       "  <tbody>\n",
       "    <tr>\n",
       "      <th>0</th>\n",
       "      <td>19404</td>\n",
       "      <td>Dilwale Dulhania Le Jayenge</td>\n",
       "      <td>[Raj, is, a, rich,, carefree,, happy-go-lucky,...</td>\n",
       "      <td>[[, ]]</td>\n",
       "      <td>[[, ', C, o, m, e, d, y, ', ,, , ', D, r, a, m...</td>\n",
       "      <td>[[, ', S, h, a, h, , R, u, k, h, , K, h, a, n,...</td>\n",
       "      <td>[[, ', A, d, i, t, y, a, , C, h, o, p, r, a, '...</td>\n",
       "    </tr>\n",
       "    <tr>\n",
       "      <th>1</th>\n",
       "      <td>278</td>\n",
       "      <td>The Shawshank Redemption</td>\n",
       "      <td>[Framed, in, the, 1940s, for, the, double, mur...</td>\n",
       "      <td>[[, ', p, r, i, s, o, n, ', ,, , ', c, o, r, r...</td>\n",
       "      <td>[[, ', D, r, a, m, a, ', ,, , ', C, r, i, m, e...</td>\n",
       "      <td>[[, ', T, i, m, , R, o, b, b, i, n, s, ', ,, ,...</td>\n",
       "      <td>[[, ', F, r, a, n, k, , D, a, r, a, b, o, n, t...</td>\n",
       "    </tr>\n",
       "    <tr>\n",
       "      <th>2</th>\n",
       "      <td>238</td>\n",
       "      <td>The Godfather</td>\n",
       "      <td>[Spanning, the, years, 1945, to, 1955,, a, chr...</td>\n",
       "      <td>[[, ', i, t, a, l, y, ', ,, , ', l, o, s, s, ,...</td>\n",
       "      <td>[[, ', D, r, a, m, a, ', ,, , ', C, r, i, m, e...</td>\n",
       "      <td>[[, ', M, a, r, l, o, n, , B, r, a, n, d, o, '...</td>\n",
       "      <td>[[, ', F, r, a, n, c, i, s, , F, o, r, d, , C,...</td>\n",
       "    </tr>\n",
       "    <tr>\n",
       "      <th>3</th>\n",
       "      <td>724089</td>\n",
       "      <td>Gabriel's Inferno Part II</td>\n",
       "      <td>[Professor, Gabriel, Emerson, finally, learns,...</td>\n",
       "      <td>[[, ', b, a, s, e, d, , o, n, , n, o, v, e, l,...</td>\n",
       "      <td>[[, ', R, o, m, a, n, c, e, ', ]]</td>\n",
       "      <td>[[, ', M, e, l, a, n, i, e, , Z, a, n, e, t, t...</td>\n",
       "      <td>[[, ', T, o, s, c, a, , M, u, s, k, ', ]]</td>\n",
       "    </tr>\n",
       "    <tr>\n",
       "      <th>4</th>\n",
       "      <td>424</td>\n",
       "      <td>Schindler's List</td>\n",
       "      <td>[The, true, story, of, how, businessman, Oskar...</td>\n",
       "      <td>[[, ', b, a, s, e, d, , o, n, , n, o, v, e, l,...</td>\n",
       "      <td>[[, ', D, r, a, m, a, ', ,, , ', H, i, s, t, o...</td>\n",
       "      <td>[[, ', L, i, a, m, , N, e, e, s, o, n, ', ,, ,...</td>\n",
       "      <td>[[, ', S, t, e, v, e, n, , S, p, i, e, l, b, e...</td>\n",
       "    </tr>\n",
       "  </tbody>\n",
       "</table>\n",
       "</div>"
      ],
      "text/plain": [
       "       id                        title  \\\n",
       "0   19404  Dilwale Dulhania Le Jayenge   \n",
       "1     278     The Shawshank Redemption   \n",
       "2     238                The Godfather   \n",
       "3  724089    Gabriel's Inferno Part II   \n",
       "4     424             Schindler's List   \n",
       "\n",
       "                                            overview  \\\n",
       "0  [Raj, is, a, rich,, carefree,, happy-go-lucky,...   \n",
       "1  [Framed, in, the, 1940s, for, the, double, mur...   \n",
       "2  [Spanning, the, years, 1945, to, 1955,, a, chr...   \n",
       "3  [Professor, Gabriel, Emerson, finally, learns,...   \n",
       "4  [The, true, story, of, how, businessman, Oskar...   \n",
       "\n",
       "                                            keywords  \\\n",
       "0                                             [[, ]]   \n",
       "1  [[, ', p, r, i, s, o, n, ', ,, , ', c, o, r, r...   \n",
       "2  [[, ', i, t, a, l, y, ', ,, , ', l, o, s, s, ,...   \n",
       "3  [[, ', b, a, s, e, d, , o, n, , n, o, v, e, l,...   \n",
       "4  [[, ', b, a, s, e, d, , o, n, , n, o, v, e, l,...   \n",
       "\n",
       "                                              genres  \\\n",
       "0  [[, ', C, o, m, e, d, y, ', ,, , ', D, r, a, m...   \n",
       "1  [[, ', D, r, a, m, a, ', ,, , ', C, r, i, m, e...   \n",
       "2  [[, ', D, r, a, m, a, ', ,, , ', C, r, i, m, e...   \n",
       "3                  [[, ', R, o, m, a, n, c, e, ', ]]   \n",
       "4  [[, ', D, r, a, m, a, ', ,, , ', H, i, s, t, o...   \n",
       "\n",
       "                                                cast  \\\n",
       "0  [[, ', S, h, a, h, , R, u, k, h, , K, h, a, n,...   \n",
       "1  [[, ', T, i, m, , R, o, b, b, i, n, s, ', ,, ,...   \n",
       "2  [[, ', M, a, r, l, o, n, , B, r, a, n, d, o, '...   \n",
       "3  [[, ', M, e, l, a, n, i, e, , Z, a, n, e, t, t...   \n",
       "4  [[, ', L, i, a, m, , N, e, e, s, o, n, ', ,, ,...   \n",
       "\n",
       "                                                crew  \n",
       "0  [[, ', A, d, i, t, y, a, , C, h, o, p, r, a, '...  \n",
       "1  [[, ', F, r, a, n, k, , D, a, r, a, b, o, n, t...  \n",
       "2  [[, ', F, r, a, n, c, i, s, , F, o, r, d, , C,...  \n",
       "3          [[, ', T, o, s, c, a, , M, u, s, k, ', ]]  \n",
       "4  [[, ', S, t, e, v, e, n, , S, p, i, e, l, b, e...  "
      ]
     },
     "execution_count": 9,
     "metadata": {},
     "output_type": "execute_result"
    }
   ],
   "source": [
    "data.head()"
   ]
  },
  {
   "cell_type": "code",
   "execution_count": 10,
   "metadata": {
    "scrolled": true
   },
   "outputs": [
    {
     "name": "stderr",
     "output_type": "stream",
     "text": [
      "C:\\Users\\shekh\\Anaconda3\\lib\\site-packages\\ipykernel_launcher.py:1: SettingWithCopyWarning: \n",
      "A value is trying to be set on a copy of a slice from a DataFrame.\n",
      "Try using .loc[row_indexer,col_indexer] = value instead\n",
      "\n",
      "See the caveats in the documentation: https://pandas.pydata.org/pandas-docs/stable/user_guide/indexing.html#returning-a-view-versus-a-copy\n",
      "  \"\"\"Entry point for launching an IPython kernel.\n"
     ]
    }
   ],
   "source": [
    "data['tags'] = data['overview'] + data['genres'] + data['keywords'] + data['cast'] + data['crew']"
   ]
  },
  {
   "cell_type": "code",
   "execution_count": 11,
   "metadata": {},
   "outputs": [
    {
     "name": "stderr",
     "output_type": "stream",
     "text": [
      "C:\\Users\\shekh\\Anaconda3\\lib\\site-packages\\pandas\\core\\generic.py:5303: SettingWithCopyWarning: \n",
      "A value is trying to be set on a copy of a slice from a DataFrame.\n",
      "Try using .loc[row_indexer,col_indexer] = value instead\n",
      "\n",
      "See the caveats in the documentation: https://pandas.pydata.org/pandas-docs/stable/user_guide/indexing.html#returning-a-view-versus-a-copy\n",
      "  self[name] = value\n"
     ]
    }
   ],
   "source": [
    "data.overview = data['overview'].apply(lambda x: \" \".join(x))\n",
    "data.genres = data['genres'].apply(lambda x: \" \".join(x))\n",
    "data.keywords = data['keywords'].apply(lambda x: \" \".join(x))\n",
    "data.cast = data['cast'].apply(lambda x: \" \".join(x))\n",
    "data.crew = data['crew'].apply(lambda x: \" \".join(x))"
   ]
  },
  {
   "cell_type": "code",
   "execution_count": 12,
   "metadata": {},
   "outputs": [
    {
     "data": {
      "text/html": [
       "<div>\n",
       "<style scoped>\n",
       "    .dataframe tbody tr th:only-of-type {\n",
       "        vertical-align: middle;\n",
       "    }\n",
       "\n",
       "    .dataframe tbody tr th {\n",
       "        vertical-align: top;\n",
       "    }\n",
       "\n",
       "    .dataframe thead th {\n",
       "        text-align: right;\n",
       "    }\n",
       "</style>\n",
       "<table border=\"1\" class=\"dataframe\">\n",
       "  <thead>\n",
       "    <tr style=\"text-align: right;\">\n",
       "      <th></th>\n",
       "      <th>id</th>\n",
       "      <th>title</th>\n",
       "      <th>overview</th>\n",
       "      <th>keywords</th>\n",
       "      <th>genres</th>\n",
       "      <th>cast</th>\n",
       "      <th>crew</th>\n",
       "      <th>tags</th>\n",
       "    </tr>\n",
       "  </thead>\n",
       "  <tbody>\n",
       "    <tr>\n",
       "      <th>0</th>\n",
       "      <td>19404</td>\n",
       "      <td>Dilwale Dulhania Le Jayenge</td>\n",
       "      <td>Raj is a rich, carefree, happy-go-lucky second...</td>\n",
       "      <td>[ ]</td>\n",
       "      <td>[ ' C o m e d y ' ,  ' D r a m a ' ,  ' R o m ...</td>\n",
       "      <td>[ ' S h a h  R u k h  K h a n ' ,  ' K a j o l...</td>\n",
       "      <td>[ ' A d i t y a  C h o p r a ' ]</td>\n",
       "      <td>[Raj, is, a, rich,, carefree,, happy-go-lucky,...</td>\n",
       "    </tr>\n",
       "    <tr>\n",
       "      <th>1</th>\n",
       "      <td>278</td>\n",
       "      <td>The Shawshank Redemption</td>\n",
       "      <td>Framed in the 1940s for the double murder of h...</td>\n",
       "      <td>[ ' p r i s o n ' ,  ' c o r r u p t i o n ' ,...</td>\n",
       "      <td>[ ' D r a m a ' ,  ' C r i m e ' ]</td>\n",
       "      <td>[ ' T i m  R o b b i n s ' ,  ' M o r g a n  F...</td>\n",
       "      <td>[ ' F r a n k  D a r a b o n t ' ]</td>\n",
       "      <td>[Framed, in, the, 1940s, for, the, double, mur...</td>\n",
       "    </tr>\n",
       "    <tr>\n",
       "      <th>2</th>\n",
       "      <td>238</td>\n",
       "      <td>The Godfather</td>\n",
       "      <td>Spanning the years 1945 to 1955, a chronicle o...</td>\n",
       "      <td>[ ' i t a l y ' ,  ' l o s s  o f  l o v e d  ...</td>\n",
       "      <td>[ ' D r a m a ' ,  ' C r i m e ' ]</td>\n",
       "      <td>[ ' M a r l o n  B r a n d o ' ,  ' A l  P a c...</td>\n",
       "      <td>[ ' F r a n c i s  F o r d  C o p p o l a ' ]</td>\n",
       "      <td>[Spanning, the, years, 1945, to, 1955,, a, chr...</td>\n",
       "    </tr>\n",
       "    <tr>\n",
       "      <th>3</th>\n",
       "      <td>724089</td>\n",
       "      <td>Gabriel's Inferno Part II</td>\n",
       "      <td>Professor Gabriel Emerson finally learns the t...</td>\n",
       "      <td>[ ' b a s e d  o n  n o v e l  o r  b o o k ' ]</td>\n",
       "      <td>[ ' R o m a n c e ' ]</td>\n",
       "      <td>[ ' M e l a n i e  Z a n e t t i ' ,  ' G i u ...</td>\n",
       "      <td>[ ' T o s c a  M u s k ' ]</td>\n",
       "      <td>[Professor, Gabriel, Emerson, finally, learns,...</td>\n",
       "    </tr>\n",
       "    <tr>\n",
       "      <th>4</th>\n",
       "      <td>424</td>\n",
       "      <td>Schindler's List</td>\n",
       "      <td>The true story of how businessman Oskar Schind...</td>\n",
       "      <td>[ ' b a s e d  o n  n o v e l  o r  b o o k ' ...</td>\n",
       "      <td>[ ' D r a m a ' ,  ' H i s t o r y ' ,  ' W a ...</td>\n",
       "      <td>[ ' L i a m  N e e s o n ' ,  ' B e n  K i n g...</td>\n",
       "      <td>[ ' S t e v e n  S p i e l b e r g ' ]</td>\n",
       "      <td>[The, true, story, of, how, businessman, Oskar...</td>\n",
       "    </tr>\n",
       "  </tbody>\n",
       "</table>\n",
       "</div>"
      ],
      "text/plain": [
       "       id                        title  \\\n",
       "0   19404  Dilwale Dulhania Le Jayenge   \n",
       "1     278     The Shawshank Redemption   \n",
       "2     238                The Godfather   \n",
       "3  724089    Gabriel's Inferno Part II   \n",
       "4     424             Schindler's List   \n",
       "\n",
       "                                            overview  \\\n",
       "0  Raj is a rich, carefree, happy-go-lucky second...   \n",
       "1  Framed in the 1940s for the double murder of h...   \n",
       "2  Spanning the years 1945 to 1955, a chronicle o...   \n",
       "3  Professor Gabriel Emerson finally learns the t...   \n",
       "4  The true story of how businessman Oskar Schind...   \n",
       "\n",
       "                                            keywords  \\\n",
       "0                                                [ ]   \n",
       "1  [ ' p r i s o n ' ,  ' c o r r u p t i o n ' ,...   \n",
       "2  [ ' i t a l y ' ,  ' l o s s  o f  l o v e d  ...   \n",
       "3    [ ' b a s e d  o n  n o v e l  o r  b o o k ' ]   \n",
       "4  [ ' b a s e d  o n  n o v e l  o r  b o o k ' ...   \n",
       "\n",
       "                                              genres  \\\n",
       "0  [ ' C o m e d y ' ,  ' D r a m a ' ,  ' R o m ...   \n",
       "1                 [ ' D r a m a ' ,  ' C r i m e ' ]   \n",
       "2                 [ ' D r a m a ' ,  ' C r i m e ' ]   \n",
       "3                              [ ' R o m a n c e ' ]   \n",
       "4  [ ' D r a m a ' ,  ' H i s t o r y ' ,  ' W a ...   \n",
       "\n",
       "                                                cast  \\\n",
       "0  [ ' S h a h  R u k h  K h a n ' ,  ' K a j o l...   \n",
       "1  [ ' T i m  R o b b i n s ' ,  ' M o r g a n  F...   \n",
       "2  [ ' M a r l o n  B r a n d o ' ,  ' A l  P a c...   \n",
       "3  [ ' M e l a n i e  Z a n e t t i ' ,  ' G i u ...   \n",
       "4  [ ' L i a m  N e e s o n ' ,  ' B e n  K i n g...   \n",
       "\n",
       "                                            crew  \\\n",
       "0               [ ' A d i t y a  C h o p r a ' ]   \n",
       "1             [ ' F r a n k  D a r a b o n t ' ]   \n",
       "2  [ ' F r a n c i s  F o r d  C o p p o l a ' ]   \n",
       "3                     [ ' T o s c a  M u s k ' ]   \n",
       "4         [ ' S t e v e n  S p i e l b e r g ' ]   \n",
       "\n",
       "                                                tags  \n",
       "0  [Raj, is, a, rich,, carefree,, happy-go-lucky,...  \n",
       "1  [Framed, in, the, 1940s, for, the, double, mur...  \n",
       "2  [Spanning, the, years, 1945, to, 1955,, a, chr...  \n",
       "3  [Professor, Gabriel, Emerson, finally, learns,...  \n",
       "4  [The, true, story, of, how, businessman, Oskar...  "
      ]
     },
     "execution_count": 12,
     "metadata": {},
     "output_type": "execute_result"
    }
   ],
   "source": [
    "data.head()"
   ]
  },
  {
   "cell_type": "code",
   "execution_count": 13,
   "metadata": {},
   "outputs": [],
   "source": [
    "data = data[['id','title','tags']]"
   ]
  },
  {
   "cell_type": "code",
   "execution_count": 14,
   "metadata": {},
   "outputs": [
    {
     "data": {
      "text/html": [
       "<div>\n",
       "<style scoped>\n",
       "    .dataframe tbody tr th:only-of-type {\n",
       "        vertical-align: middle;\n",
       "    }\n",
       "\n",
       "    .dataframe tbody tr th {\n",
       "        vertical-align: top;\n",
       "    }\n",
       "\n",
       "    .dataframe thead th {\n",
       "        text-align: right;\n",
       "    }\n",
       "</style>\n",
       "<table border=\"1\" class=\"dataframe\">\n",
       "  <thead>\n",
       "    <tr style=\"text-align: right;\">\n",
       "      <th></th>\n",
       "      <th>id</th>\n",
       "      <th>title</th>\n",
       "      <th>tags</th>\n",
       "    </tr>\n",
       "  </thead>\n",
       "  <tbody>\n",
       "    <tr>\n",
       "      <th>0</th>\n",
       "      <td>19404</td>\n",
       "      <td>Dilwale Dulhania Le Jayenge</td>\n",
       "      <td>[Raj, is, a, rich,, carefree,, happy-go-lucky,...</td>\n",
       "    </tr>\n",
       "    <tr>\n",
       "      <th>1</th>\n",
       "      <td>278</td>\n",
       "      <td>The Shawshank Redemption</td>\n",
       "      <td>[Framed, in, the, 1940s, for, the, double, mur...</td>\n",
       "    </tr>\n",
       "    <tr>\n",
       "      <th>2</th>\n",
       "      <td>238</td>\n",
       "      <td>The Godfather</td>\n",
       "      <td>[Spanning, the, years, 1945, to, 1955,, a, chr...</td>\n",
       "    </tr>\n",
       "    <tr>\n",
       "      <th>3</th>\n",
       "      <td>724089</td>\n",
       "      <td>Gabriel's Inferno Part II</td>\n",
       "      <td>[Professor, Gabriel, Emerson, finally, learns,...</td>\n",
       "    </tr>\n",
       "    <tr>\n",
       "      <th>4</th>\n",
       "      <td>424</td>\n",
       "      <td>Schindler's List</td>\n",
       "      <td>[The, true, story, of, how, businessman, Oskar...</td>\n",
       "    </tr>\n",
       "  </tbody>\n",
       "</table>\n",
       "</div>"
      ],
      "text/plain": [
       "       id                        title  \\\n",
       "0   19404  Dilwale Dulhania Le Jayenge   \n",
       "1     278     The Shawshank Redemption   \n",
       "2     238                The Godfather   \n",
       "3  724089    Gabriel's Inferno Part II   \n",
       "4     424             Schindler's List   \n",
       "\n",
       "                                                tags  \n",
       "0  [Raj, is, a, rich,, carefree,, happy-go-lucky,...  \n",
       "1  [Framed, in, the, 1940s, for, the, double, mur...  \n",
       "2  [Spanning, the, years, 1945, to, 1955,, a, chr...  \n",
       "3  [Professor, Gabriel, Emerson, finally, learns,...  \n",
       "4  [The, true, story, of, how, businessman, Oskar...  "
      ]
     },
     "execution_count": 14,
     "metadata": {},
     "output_type": "execute_result"
    }
   ],
   "source": [
    "data.head()"
   ]
  },
  {
   "cell_type": "code",
   "execution_count": 15,
   "metadata": {},
   "outputs": [],
   "source": [
    "data.tags = data['tags'].apply(lambda x: \" \".join(x))\n",
    "data['tags'] = data.tags.apply(lambda x: x.lower())"
   ]
  },
  {
   "cell_type": "code",
   "execution_count": 16,
   "metadata": {
    "scrolled": true
   },
   "outputs": [
    {
     "data": {
      "text/html": [
       "<div>\n",
       "<style scoped>\n",
       "    .dataframe tbody tr th:only-of-type {\n",
       "        vertical-align: middle;\n",
       "    }\n",
       "\n",
       "    .dataframe tbody tr th {\n",
       "        vertical-align: top;\n",
       "    }\n",
       "\n",
       "    .dataframe thead th {\n",
       "        text-align: right;\n",
       "    }\n",
       "</style>\n",
       "<table border=\"1\" class=\"dataframe\">\n",
       "  <thead>\n",
       "    <tr style=\"text-align: right;\">\n",
       "      <th></th>\n",
       "      <th>id</th>\n",
       "      <th>title</th>\n",
       "      <th>tags</th>\n",
       "    </tr>\n",
       "  </thead>\n",
       "  <tbody>\n",
       "    <tr>\n",
       "      <th>0</th>\n",
       "      <td>19404</td>\n",
       "      <td>Dilwale Dulhania Le Jayenge</td>\n",
       "      <td>raj is a rich, carefree, happy-go-lucky second...</td>\n",
       "    </tr>\n",
       "    <tr>\n",
       "      <th>1</th>\n",
       "      <td>278</td>\n",
       "      <td>The Shawshank Redemption</td>\n",
       "      <td>framed in the 1940s for the double murder of h...</td>\n",
       "    </tr>\n",
       "    <tr>\n",
       "      <th>2</th>\n",
       "      <td>238</td>\n",
       "      <td>The Godfather</td>\n",
       "      <td>spanning the years 1945 to 1955, a chronicle o...</td>\n",
       "    </tr>\n",
       "    <tr>\n",
       "      <th>3</th>\n",
       "      <td>724089</td>\n",
       "      <td>Gabriel's Inferno Part II</td>\n",
       "      <td>professor gabriel emerson finally learns the t...</td>\n",
       "    </tr>\n",
       "    <tr>\n",
       "      <th>4</th>\n",
       "      <td>424</td>\n",
       "      <td>Schindler's List</td>\n",
       "      <td>the true story of how businessman oskar schind...</td>\n",
       "    </tr>\n",
       "  </tbody>\n",
       "</table>\n",
       "</div>"
      ],
      "text/plain": [
       "       id                        title  \\\n",
       "0   19404  Dilwale Dulhania Le Jayenge   \n",
       "1     278     The Shawshank Redemption   \n",
       "2     238                The Godfather   \n",
       "3  724089    Gabriel's Inferno Part II   \n",
       "4     424             Schindler's List   \n",
       "\n",
       "                                                tags  \n",
       "0  raj is a rich, carefree, happy-go-lucky second...  \n",
       "1  framed in the 1940s for the double murder of h...  \n",
       "2  spanning the years 1945 to 1955, a chronicle o...  \n",
       "3  professor gabriel emerson finally learns the t...  \n",
       "4  the true story of how businessman oskar schind...  "
      ]
     },
     "execution_count": 16,
     "metadata": {},
     "output_type": "execute_result"
    }
   ],
   "source": [
    "data.head()"
   ]
  },
  {
   "cell_type": "code",
   "execution_count": 17,
   "metadata": {},
   "outputs": [],
   "source": [
    "from nltk.stem.porter import PorterStemmer\n",
    "ps = PorterStemmer()"
   ]
  },
  {
   "cell_type": "code",
   "execution_count": 18,
   "metadata": {},
   "outputs": [],
   "source": [
    "def stem(text):\n",
    "    l = [ ]\n",
    "    for i in text.split():\n",
    "        l.append(ps.stem(i))\n",
    "    return \" \".join(l)"
   ]
  },
  {
   "cell_type": "code",
   "execution_count": 19,
   "metadata": {},
   "outputs": [],
   "source": [
    "data.tags = data.tags.apply(stem)"
   ]
  },
  {
   "cell_type": "code",
   "execution_count": 20,
   "metadata": {},
   "outputs": [],
   "source": [
    "data.to_csv('movies_tags.csv')"
   ]
  },
  {
   "cell_type": "code",
   "execution_count": 21,
   "metadata": {},
   "outputs": [],
   "source": [
    "from sklearn.feature_extraction.text import CountVectorizer\n",
    "cv = CountVectorizer(max_features=5000,stop_words='english')"
   ]
  },
  {
   "cell_type": "code",
   "execution_count": 22,
   "metadata": {},
   "outputs": [],
   "source": [
    "vectors = cv.fit_transform(data.tags).toarray()"
   ]
  },
  {
   "cell_type": "code",
   "execution_count": 23,
   "metadata": {},
   "outputs": [
    {
     "data": {
      "text/plain": [
       "(9464, 5000)"
      ]
     },
     "execution_count": 23,
     "metadata": {},
     "output_type": "execute_result"
    }
   ],
   "source": [
    "vectors.shape"
   ]
  },
  {
   "cell_type": "code",
   "execution_count": 24,
   "metadata": {},
   "outputs": [],
   "source": [
    "from sklearn.metrics.pairwise import cosine_similarity"
   ]
  },
  {
   "cell_type": "code",
   "execution_count": 25,
   "metadata": {},
   "outputs": [],
   "source": [
    "similarity = cosine_similarity(vectors)"
   ]
  },
  {
   "cell_type": "code",
   "execution_count": 26,
   "metadata": {},
   "outputs": [
    {
     "data": {
      "text/plain": [
       "(9464, 9464)"
      ]
     },
     "execution_count": 26,
     "metadata": {},
     "output_type": "execute_result"
    }
   ],
   "source": [
    "similarity.shape"
   ]
  },
  {
   "cell_type": "code",
   "execution_count": 27,
   "metadata": {},
   "outputs": [],
   "source": [
    "movies.genres = movies[\"genres\"].apply(lambda x: x.replace('[',''))\n",
    "movies.genres = movies[\"genres\"].apply(lambda x: x.replace(']',''))\n",
    "movies.genres = movies[\"genres\"].apply(lambda x: x.replace(\"'\",''))"
   ]
  },
  {
   "cell_type": "code",
   "execution_count": 28,
   "metadata": {},
   "outputs": [],
   "source": [
    "movies.cast = movies[\"cast\"].apply(lambda x: x.replace('[',''))\n",
    "movies.cast = movies[\"cast\"].apply(lambda x: x.replace(']',''))\n",
    "movies.cast = movies[\"cast\"].apply(lambda x: x.replace(\"'\",''))"
   ]
  },
  {
   "cell_type": "code",
   "execution_count": 29,
   "metadata": {},
   "outputs": [],
   "source": [
    "movies.crew = movies[\"crew\"].apply(lambda x: x.replace('[',''))\n",
    "movies.crew = movies[\"crew\"].apply(lambda x: x.replace(']',''))\n",
    "movies.crew = movies[\"crew\"].apply(lambda x: x.replace(\"'\",''))"
   ]
  },
  {
   "cell_type": "code",
   "execution_count": 30,
   "metadata": {},
   "outputs": [],
   "source": [
    "movies.keywords = movies[\"keywords\"].apply(lambda x: x.replace('[',''))\n",
    "movies.keywords = movies[\"keywords\"].apply(lambda x: x.replace(']',''))\n",
    "movies.keywords = movies[\"keywords\"].apply(lambda x: x.replace(\"'\",''))"
   ]
  },
  {
   "cell_type": "code",
   "execution_count": 31,
   "metadata": {},
   "outputs": [],
   "source": [
    "movies.genres=movies['genres'].replace({\"'\": ''}, regex=True)"
   ]
  },
  {
   "cell_type": "markdown",
   "metadata": {},
   "source": [
    "# Postor sorter"
   ]
  },
  {
   "cell_type": "code",
   "execution_count": 32,
   "metadata": {},
   "outputs": [],
   "source": [
    "poster_data = pd.read_csv('poster.csv')"
   ]
  },
  {
   "cell_type": "code",
   "execution_count": 33,
   "metadata": {},
   "outputs": [],
   "source": [
    "poster_data[\"cast_poster\"] = poster_data['cast']"
   ]
  },
  {
   "cell_type": "code",
   "execution_count": 34,
   "metadata": {},
   "outputs": [],
   "source": [
    "poster_data[\"crew_poster\"] = poster_data['crew']"
   ]
  },
  {
   "cell_type": "code",
   "execution_count": 35,
   "metadata": {},
   "outputs": [],
   "source": [
    "poster_data.drop(columns=['cast','crew'],inplace=True)"
   ]
  },
  {
   "cell_type": "code",
   "execution_count": 36,
   "metadata": {},
   "outputs": [],
   "source": [
    "poster_data.cast_poster = poster_data[\"cast_poster\"].apply(lambda x: x.replace('[',''))\n",
    "poster_data.cast_poster = poster_data[\"cast_poster\"].apply(lambda x: x.replace(']',''))\n",
    "poster_data.cast_poster = poster_data[\"cast_poster\"].apply(lambda x: x.replace(\"'\",''))"
   ]
  },
  {
   "cell_type": "code",
   "execution_count": 37,
   "metadata": {},
   "outputs": [],
   "source": [
    "poster_data.crew_poster = poster_data[\"crew_poster\"].apply(lambda x: x.replace('[',''))\n",
    "poster_data.crew_poster = poster_data[\"crew_poster\"].apply(lambda x: x.replace(']',''))\n",
    "poster_data.crew_poster = poster_data[\"crew_poster\"].apply(lambda x: x.replace(\"'\",''))"
   ]
  },
  {
   "cell_type": "code",
   "execution_count": 38,
   "metadata": {},
   "outputs": [
    {
     "data": {
      "text/html": [
       "<div>\n",
       "<style scoped>\n",
       "    .dataframe tbody tr th:only-of-type {\n",
       "        vertical-align: middle;\n",
       "    }\n",
       "\n",
       "    .dataframe tbody tr th {\n",
       "        vertical-align: top;\n",
       "    }\n",
       "\n",
       "    .dataframe thead th {\n",
       "        text-align: right;\n",
       "    }\n",
       "</style>\n",
       "<table border=\"1\" class=\"dataframe\">\n",
       "  <thead>\n",
       "    <tr style=\"text-align: right;\">\n",
       "      <th></th>\n",
       "      <th>id</th>\n",
       "      <th>cast_poster</th>\n",
       "      <th>crew_poster</th>\n",
       "    </tr>\n",
       "  </thead>\n",
       "  <tbody>\n",
       "    <tr>\n",
       "      <th>0</th>\n",
       "      <td>19404.0</td>\n",
       "      <td>/3uP0HPmCa0VTmyzTfa3E4WI9qgK.jpg, /cwum24EsxNw...</td>\n",
       "      <td>None</td>\n",
       "    </tr>\n",
       "    <tr>\n",
       "      <th>1</th>\n",
       "      <td>278.0</td>\n",
       "      <td>/hsCu1JUzQQ4pl7uFxAVFLOs9yHh.jpg, /oIciQWr8VwK...</td>\n",
       "      <td>/nvOqAQhKtXdHtczgqanoCfltsxJ.jpg</td>\n",
       "    </tr>\n",
       "    <tr>\n",
       "      <th>2</th>\n",
       "      <td>238.0</td>\n",
       "      <td>/fuTEPMsBtV1zE98ujPONbKiYDc2.jpg, /fMDFeVf0pjo...</td>\n",
       "      <td>/mGKkVp3l9cipPt10AqoQnwaPrfI.jpg</td>\n",
       "    </tr>\n",
       "    <tr>\n",
       "      <th>3</th>\n",
       "      <td>724089.0</td>\n",
       "      <td>/lbUQ7ilvBtWMU23reKsHg3jRmsf.jpg, /ktPKniWGVkm...</td>\n",
       "      <td>/usR5NspRlWgXKUe9qVsCtTCpe4l.jpg</td>\n",
       "    </tr>\n",
       "    <tr>\n",
       "      <th>4</th>\n",
       "      <td>424.0</td>\n",
       "      <td>/bboldwqSC6tdw2iL6631c98l2Mn.jpg, /vQtBqpF2HDd...</td>\n",
       "      <td>/tZxcg19YQ3e8fJ0pOs7hjlnmmr6.jpg</td>\n",
       "    </tr>\n",
       "  </tbody>\n",
       "</table>\n",
       "</div>"
      ],
      "text/plain": [
       "         id                                        cast_poster  \\\n",
       "0   19404.0  /3uP0HPmCa0VTmyzTfa3E4WI9qgK.jpg, /cwum24EsxNw...   \n",
       "1     278.0  /hsCu1JUzQQ4pl7uFxAVFLOs9yHh.jpg, /oIciQWr8VwK...   \n",
       "2     238.0  /fuTEPMsBtV1zE98ujPONbKiYDc2.jpg, /fMDFeVf0pjo...   \n",
       "3  724089.0  /lbUQ7ilvBtWMU23reKsHg3jRmsf.jpg, /ktPKniWGVkm...   \n",
       "4     424.0  /bboldwqSC6tdw2iL6631c98l2Mn.jpg, /vQtBqpF2HDd...   \n",
       "\n",
       "                        crew_poster  \n",
       "0                              None  \n",
       "1  /nvOqAQhKtXdHtczgqanoCfltsxJ.jpg  \n",
       "2  /mGKkVp3l9cipPt10AqoQnwaPrfI.jpg  \n",
       "3  /usR5NspRlWgXKUe9qVsCtTCpe4l.jpg  \n",
       "4  /tZxcg19YQ3e8fJ0pOs7hjlnmmr6.jpg  "
      ]
     },
     "execution_count": 38,
     "metadata": {},
     "output_type": "execute_result"
    }
   ],
   "source": [
    "poster_data.head()"
   ]
  },
  {
   "cell_type": "code",
   "execution_count": 39,
   "metadata": {},
   "outputs": [],
   "source": [
    "movies = movies.merge(poster_data,on='id')"
   ]
  },
  {
   "cell_type": "code",
   "execution_count": 40,
   "metadata": {},
   "outputs": [
    {
     "data": {
      "text/html": [
       "<div>\n",
       "<style scoped>\n",
       "    .dataframe tbody tr th:only-of-type {\n",
       "        vertical-align: middle;\n",
       "    }\n",
       "\n",
       "    .dataframe tbody tr th {\n",
       "        vertical-align: top;\n",
       "    }\n",
       "\n",
       "    .dataframe thead th {\n",
       "        text-align: right;\n",
       "    }\n",
       "</style>\n",
       "<table border=\"1\" class=\"dataframe\">\n",
       "  <thead>\n",
       "    <tr style=\"text-align: right;\">\n",
       "      <th></th>\n",
       "      <th>Unnamed: 0</th>\n",
       "      <th>id</th>\n",
       "      <th>title</th>\n",
       "      <th>overview</th>\n",
       "      <th>popularity</th>\n",
       "      <th>vote_average</th>\n",
       "      <th>vote_count</th>\n",
       "      <th>release_date</th>\n",
       "      <th>keywords</th>\n",
       "      <th>genres</th>\n",
       "      <th>cast</th>\n",
       "      <th>crew</th>\n",
       "      <th>cast_poster</th>\n",
       "      <th>crew_poster</th>\n",
       "    </tr>\n",
       "  </thead>\n",
       "  <tbody>\n",
       "    <tr>\n",
       "      <th>0</th>\n",
       "      <td>0</td>\n",
       "      <td>19404</td>\n",
       "      <td>Dilwale Dulhania Le Jayenge</td>\n",
       "      <td>Raj is a rich, carefree, happy-go-lucky second...</td>\n",
       "      <td>31.222</td>\n",
       "      <td>8.7</td>\n",
       "      <td>3323</td>\n",
       "      <td>1995-10-20</td>\n",
       "      <td></td>\n",
       "      <td>Comedy, Drama, Romance</td>\n",
       "      <td>Shah Rukh Khan, Kajol, Amrish Puri, Anupam Khe...</td>\n",
       "      <td>Aditya Chopra</td>\n",
       "      <td>/3uP0HPmCa0VTmyzTfa3E4WI9qgK.jpg, /cwum24EsxNw...</td>\n",
       "      <td>None</td>\n",
       "    </tr>\n",
       "    <tr>\n",
       "      <th>1</th>\n",
       "      <td>1</td>\n",
       "      <td>278</td>\n",
       "      <td>The Shawshank Redemption</td>\n",
       "      <td>Framed in the 1940s for the double murder of h...</td>\n",
       "      <td>76.654</td>\n",
       "      <td>8.7</td>\n",
       "      <td>20434</td>\n",
       "      <td>1994-09-23</td>\n",
       "      <td>prison, corruption, police brutality, prison c...</td>\n",
       "      <td>Drama, Crime</td>\n",
       "      <td>Tim Robbins, Morgan Freeman, Bob Gunton, Willi...</td>\n",
       "      <td>Frank Darabont</td>\n",
       "      <td>/hsCu1JUzQQ4pl7uFxAVFLOs9yHh.jpg, /oIciQWr8VwK...</td>\n",
       "      <td>/nvOqAQhKtXdHtczgqanoCfltsxJ.jpg</td>\n",
       "    </tr>\n",
       "    <tr>\n",
       "      <th>2</th>\n",
       "      <td>2</td>\n",
       "      <td>238</td>\n",
       "      <td>The Godfather</td>\n",
       "      <td>Spanning the years 1945 to 1955, a chronicle o...</td>\n",
       "      <td>75.306</td>\n",
       "      <td>8.7</td>\n",
       "      <td>15270</td>\n",
       "      <td>1972-03-14</td>\n",
       "      <td>italy, loss of loved one, love at first sight,...</td>\n",
       "      <td>Drama, Crime</td>\n",
       "      <td>Marlon Brando, Al Pacino, James Caan, Robert D...</td>\n",
       "      <td>Francis Ford Coppola</td>\n",
       "      <td>/fuTEPMsBtV1zE98ujPONbKiYDc2.jpg, /fMDFeVf0pjo...</td>\n",
       "      <td>/mGKkVp3l9cipPt10AqoQnwaPrfI.jpg</td>\n",
       "    </tr>\n",
       "    <tr>\n",
       "      <th>3</th>\n",
       "      <td>3</td>\n",
       "      <td>724089</td>\n",
       "      <td>Gabriel's Inferno Part II</td>\n",
       "      <td>Professor Gabriel Emerson finally learns the t...</td>\n",
       "      <td>21.501</td>\n",
       "      <td>8.6</td>\n",
       "      <td>1369</td>\n",
       "      <td>2020-07-31</td>\n",
       "      <td>based on novel or book</td>\n",
       "      <td>Romance</td>\n",
       "      <td>Melanie Zanetti, Giulio Berruti, James Andrew ...</td>\n",
       "      <td>Tosca Musk</td>\n",
       "      <td>/lbUQ7ilvBtWMU23reKsHg3jRmsf.jpg, /ktPKniWGVkm...</td>\n",
       "      <td>/usR5NspRlWgXKUe9qVsCtTCpe4l.jpg</td>\n",
       "    </tr>\n",
       "    <tr>\n",
       "      <th>4</th>\n",
       "      <td>4</td>\n",
       "      <td>424</td>\n",
       "      <td>Schindler's List</td>\n",
       "      <td>The true story of how businessman Oskar Schind...</td>\n",
       "      <td>40.585</td>\n",
       "      <td>8.6</td>\n",
       "      <td>12202</td>\n",
       "      <td>1993-11-30</td>\n",
       "      <td>based on novel or book, factory, concentration...</td>\n",
       "      <td>Drama, History, War</td>\n",
       "      <td>Liam Neeson, Ben Kingsley, Ralph Fiennes, Caro...</td>\n",
       "      <td>Steven Spielberg</td>\n",
       "      <td>/bboldwqSC6tdw2iL6631c98l2Mn.jpg, /vQtBqpF2HDd...</td>\n",
       "      <td>/tZxcg19YQ3e8fJ0pOs7hjlnmmr6.jpg</td>\n",
       "    </tr>\n",
       "  </tbody>\n",
       "</table>\n",
       "</div>"
      ],
      "text/plain": [
       "   Unnamed: 0      id                        title  \\\n",
       "0           0   19404  Dilwale Dulhania Le Jayenge   \n",
       "1           1     278     The Shawshank Redemption   \n",
       "2           2     238                The Godfather   \n",
       "3           3  724089    Gabriel's Inferno Part II   \n",
       "4           4     424             Schindler's List   \n",
       "\n",
       "                                            overview  popularity  \\\n",
       "0  Raj is a rich, carefree, happy-go-lucky second...      31.222   \n",
       "1  Framed in the 1940s for the double murder of h...      76.654   \n",
       "2  Spanning the years 1945 to 1955, a chronicle o...      75.306   \n",
       "3  Professor Gabriel Emerson finally learns the t...      21.501   \n",
       "4  The true story of how businessman Oskar Schind...      40.585   \n",
       "\n",
       "   vote_average  vote_count release_date  \\\n",
       "0           8.7        3323   1995-10-20   \n",
       "1           8.7       20434   1994-09-23   \n",
       "2           8.7       15270   1972-03-14   \n",
       "3           8.6        1369   2020-07-31   \n",
       "4           8.6       12202   1993-11-30   \n",
       "\n",
       "                                            keywords                  genres  \\\n",
       "0                                                     Comedy, Drama, Romance   \n",
       "1  prison, corruption, police brutality, prison c...            Drama, Crime   \n",
       "2  italy, loss of loved one, love at first sight,...            Drama, Crime   \n",
       "3                             based on novel or book                 Romance   \n",
       "4  based on novel or book, factory, concentration...     Drama, History, War   \n",
       "\n",
       "                                                cast                  crew  \\\n",
       "0  Shah Rukh Khan, Kajol, Amrish Puri, Anupam Khe...         Aditya Chopra   \n",
       "1  Tim Robbins, Morgan Freeman, Bob Gunton, Willi...        Frank Darabont   \n",
       "2  Marlon Brando, Al Pacino, James Caan, Robert D...  Francis Ford Coppola   \n",
       "3  Melanie Zanetti, Giulio Berruti, James Andrew ...            Tosca Musk   \n",
       "4  Liam Neeson, Ben Kingsley, Ralph Fiennes, Caro...      Steven Spielberg   \n",
       "\n",
       "                                         cast_poster  \\\n",
       "0  /3uP0HPmCa0VTmyzTfa3E4WI9qgK.jpg, /cwum24EsxNw...   \n",
       "1  /hsCu1JUzQQ4pl7uFxAVFLOs9yHh.jpg, /oIciQWr8VwK...   \n",
       "2  /fuTEPMsBtV1zE98ujPONbKiYDc2.jpg, /fMDFeVf0pjo...   \n",
       "3  /lbUQ7ilvBtWMU23reKsHg3jRmsf.jpg, /ktPKniWGVkm...   \n",
       "4  /bboldwqSC6tdw2iL6631c98l2Mn.jpg, /vQtBqpF2HDd...   \n",
       "\n",
       "                        crew_poster  \n",
       "0                              None  \n",
       "1  /nvOqAQhKtXdHtczgqanoCfltsxJ.jpg  \n",
       "2  /mGKkVp3l9cipPt10AqoQnwaPrfI.jpg  \n",
       "3  /usR5NspRlWgXKUe9qVsCtTCpe4l.jpg  \n",
       "4  /tZxcg19YQ3e8fJ0pOs7hjlnmmr6.jpg  "
      ]
     },
     "execution_count": 40,
     "metadata": {},
     "output_type": "execute_result"
    }
   ],
   "source": [
    "movies.head()"
   ]
  },
  {
   "cell_type": "code",
   "execution_count": 41,
   "metadata": {},
   "outputs": [],
   "source": [
    "movies.to_csv(\"movies_data.csv\")"
   ]
  },
  {
   "cell_type": "code",
   "execution_count": null,
   "metadata": {},
   "outputs": [],
   "source": []
  }
 ],
 "metadata": {
  "kernelspec": {
   "display_name": "Python 3",
   "language": "python",
   "name": "python3"
  },
  "language_info": {
   "codemirror_mode": {
    "name": "ipython",
    "version": 3
   },
   "file_extension": ".py",
   "mimetype": "text/x-python",
   "name": "python",
   "nbconvert_exporter": "python",
   "pygments_lexer": "ipython3",
   "version": "3.7.6"
  }
 },
 "nbformat": 4,
 "nbformat_minor": 4
}
